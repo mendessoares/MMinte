{
 "cells": [
  {
   "cell_type": "markdown",
   "metadata": {},
   "source": [
    "## MMinte pipeline tutorial\n",
    "\n",
    "**MMinte** (pronounced /‘minti/) is a set of widgets that allows you to explore the pairwise interactions (positive or negative) that occur in a microbial community. From an association network and 16S rDNA sequence data, **MMinte** identifies corresponding genomes, reconstructs metabolic models, estimates growth under specific metabolic conditions, analyzes pairwise interactions, assigns interaction types to network links, and generates the corresponding network of interactions.\n",
    "\n",
    "This tutorial shows how to run all six widgets in an integrated pipeline from start to finish. See [MMinte with your own models](interactions.ipynb) for a tutorial on how to run specific steps in the pipeline when you already have metabolic models for the organisms in a microbial community. \n",
    "\n",
    "### Getting started\n",
    "\n",
    "**MMinte** can reconstruct ModelSEED models for the species in the microbial community using Widget 3. The [ModelSEED service](http://modelseed.org) uses genomes available in the [Pathosystems Resource Integration Center](https://www.patricbrc.org/portal/portal/patric/Home) (PATRIC) and requires you to authenticate as a [registered PATRIC user](http://enews.patricbrc.org/faqs/workspace-faqs/registration-faqs/). If needed, complete a [new user registration](https://user.patricbrc.org/register/). Before you use Widget 3 you must get an authentication token. The [Mackinac](https://github.com/mmundy42/mackinac) `get_token()` function stores the authentication token in the `.patric_config` file in your home directory. You can use the token until it expires.\n",
    "\n",
    "In the cell below, change `username` to your PATRIC username and enter your password when prompted. The returned user ID identifies your ModelSEED workspace."
   ]
  },
  {
   "cell_type": "code",
   "execution_count": 1,
   "metadata": {},
   "outputs": [
    {
     "name": "stdout",
     "output_type": "stream",
     "text": [
      "patric password: ········\n"
     ]
    },
    {
     "data": {
      "text/plain": [
       "'username@patricbrc.org'"
      ]
     },
     "execution_count": 1,
     "metadata": {},
     "output_type": "execute_result"
    }
   ],
   "source": [
    "from mackinac import get_token\n",
    "get_token('username')"
   ]
  },
  {
   "cell_type": "markdown",
   "metadata": {},
   "source": [
    "Now import the mminte package and a few other packages needed for this tutorial."
   ]
  },
  {
   "cell_type": "code",
   "execution_count": 2,
   "metadata": {
    "collapsed": true
   },
   "outputs": [],
   "source": [
    "import mminte\n",
    "from os.path import expanduser, join\n",
    "from os import makedirs\n",
    "import pkg_resources"
   ]
  },
  {
   "cell_type": "markdown",
   "metadata": {},
   "source": [
    "Each **MMinte** widget either creates output files or returns data that is used as input to the next widget. You need to select a base folder for storing the output files and separate folders for the single species and pair model files. Since there can be a large number of model files, it helps to store them in a separate folders. Change the value assigned to `analysis_folder` if you want the output files stored somewhere else."
   ]
  },
  {
   "cell_type": "code",
   "execution_count": 3,
   "metadata": {
    "collapsed": true
   },
   "outputs": [],
   "source": [
    "analysis_folder = join(expanduser('~'), 'mminte_tutorial')\n",
    "single_model_folder = join(analysis_folder, 'single_models')\n",
    "pair_model_folder = join(analysis_folder, 'pair_models')"
   ]
  },
  {
   "cell_type": "markdown",
   "metadata": {},
   "source": [
    "Run the cell below to create the folders. You only need to run this cell if the folders do not exist."
   ]
  },
  {
   "cell_type": "code",
   "execution_count": 4,
   "metadata": {},
   "outputs": [],
   "source": [
    "makedirs(analysis_folder)\n",
    "makedirs(single_model_folder)\n",
    "makedirs(pair_model_folder)"
   ]
  },
  {
   "cell_type": "markdown",
   "metadata": {},
   "source": [
    "### Widget 1 - Get sequences for representative OTUs\n",
    "\n",
    "In Widget 1, you get the 16S rDNA sequences for the representative OTUs in the microbial community using the `get_unique_otu_sequences()` function. The first input parameter is a list of tuples that has three elements: (1) first OTU number, (2) second OTU number, and (3) correlation value between -1 and 1. You need to provide this data based on your own analysis of the microbial community.\n",
    "\n",
    "A correlation file for this tutorial is in the test data included with the mminte package. Each line of the correlation file has three columns: (1) first OTU number, (2) second OTU number, and (3) correlation value. For example:\n",
    "\n",
    "    18\t310\t0.98\n",
    "    18\t401\t1\n",
    "    18\t405\t0.92\n",
    "    37\t72\t0.96\t\n",
    "    37\t74\t1\n",
    "    37\t632\t-0.2\n",
    "\n",
    "Each column in the correlation file is separated by a tab and the first line of the line is a header that is ignored. The correlation file is used again in Widget 6 to visualize the results.\n",
    "\n",
    "Change the value assigned to `correlation_filename` if you want to use your own correlation file."
   ]
  },
  {
   "cell_type": "code",
   "execution_count": 5,
   "metadata": {
    "collapsed": true
   },
   "outputs": [],
   "source": [
    "correlation_filename = pkg_resources.resource_filename('mminte', 'test/data/correlation.txt')\n",
    "correlations = mminte.read_correlation_file(correlation_filename)"
   ]
  },
  {
   "cell_type": "markdown",
   "metadata": {},
   "source": [
    "The second input parameter is the path to a fasta file that has the 16S rDNA sequences for all of the OTUs in the microbial community. The record ID in each fasta record must be an OTU number. All of the OTUs in the correlation file must have a record in the fasta file.\n",
    "\n",
    "Typically you get the fasta file as output from 16S rDNA sequencing of the microbial community. A fasta file for this tutorial is in the test data included with the mminte package. The data in the fasta file comes from the Human Microbiome Project. Change the value assigned to `all_otus_filename` if you want to use your own sequence file."
   ]
  },
  {
   "cell_type": "code",
   "execution_count": 6,
   "metadata": {
    "collapsed": true
   },
   "outputs": [],
   "source": [
    "all_otus_filename = pkg_resources.resource_filename('mminte', 'test/data/all_otus.fasta')"
   ]
  },
  {
   "cell_type": "markdown",
   "metadata": {},
   "source": [
    "The third input parameter is the path to a fasta file where the 16S rDNA sequences for the unique representative OTUs are stored."
   ]
  },
  {
   "cell_type": "code",
   "execution_count": 7,
   "metadata": {
    "collapsed": true
   },
   "outputs": [],
   "source": [
    "unique_otus_filename = join(analysis_folder, 'unique_otus.fasta')"
   ]
  },
  {
   "cell_type": "markdown",
   "metadata": {},
   "source": [
    "The output is the number of unique OTUs that are found in the input files."
   ]
  },
  {
   "cell_type": "code",
   "execution_count": 8,
   "metadata": {},
   "outputs": [
    {
     "data": {
      "text/plain": [
       "18"
      ]
     },
     "execution_count": 8,
     "metadata": {},
     "output_type": "execute_result"
    }
   ],
   "source": [
    "mminte.get_unique_otu_sequences(correlations, all_otus_filename, unique_otus_filename)"
   ]
  },
  {
   "cell_type": "markdown",
   "metadata": {},
   "source": [
    "### Widget 2 - Search for closest matching bacterial species\n",
    "\n",
    "In Widget 2, you use the unique representative OTU sequences to find the closest matching bacterial species with a whole genome sequence by running blast using the `search()` function. The first input parameter is the path to a fasta file with the 16S rDNA sequences for the unique OTUs that was created in Widget 1. The second input parameter is the path to the blast output file. *Talk about how database was generated*\n",
    "\n",
    "The two outputs are (1) a list of the unique NCBI genome IDs and (2) a data frame with the percent similarity between each representative OTUs and the closest match, identified by the NCBI genome ID."
   ]
  },
  {
   "cell_type": "code",
   "execution_count": 9,
   "metadata": {
    "collapsed": true
   },
   "outputs": [],
   "source": [
    "genome_ids, similarity = mminte.search(unique_otus_filename, join(analysis_folder, 'blast.txt'))"
   ]
  },
  {
   "cell_type": "markdown",
   "metadata": {},
   "source": [
    "Each row in the `similarity` data frame has three columns: (1) OTU ID, (2) NCBI genome ID, and (3) percent similarity of the organism represented by the OTU number to the organism with the NCBI genome ID. For example:"
   ]
  },
  {
   "cell_type": "code",
   "execution_count": 10,
   "metadata": {},
   "outputs": [
    {
     "data": {
      "text/html": [
       "<div>\n",
       "<style>\n",
       "    .dataframe thead tr:only-child th {\n",
       "        text-align: right;\n",
       "    }\n",
       "\n",
       "    .dataframe thead th {\n",
       "        text-align: left;\n",
       "    }\n",
       "\n",
       "    .dataframe tbody tr th {\n",
       "        vertical-align: top;\n",
       "    }\n",
       "</style>\n",
       "<table border=\"1\" class=\"dataframe\">\n",
       "  <thead>\n",
       "    <tr style=\"text-align: right;\">\n",
       "      <th></th>\n",
       "      <th>OTU_ID</th>\n",
       "      <th>GENOME_ID</th>\n",
       "      <th>SIMILARITY</th>\n",
       "    </tr>\n",
       "  </thead>\n",
       "  <tbody>\n",
       "    <tr>\n",
       "      <th>0</th>\n",
       "      <td>18</td>\n",
       "      <td>657315.3</td>\n",
       "      <td>100.00</td>\n",
       "    </tr>\n",
       "    <tr>\n",
       "      <th>1</th>\n",
       "      <td>37</td>\n",
       "      <td>484018.6</td>\n",
       "      <td>98.33</td>\n",
       "    </tr>\n",
       "    <tr>\n",
       "      <th>2</th>\n",
       "      <td>72</td>\n",
       "      <td>1235835.3</td>\n",
       "      <td>25.00</td>\n",
       "    </tr>\n",
       "    <tr>\n",
       "      <th>3</th>\n",
       "      <td>74</td>\n",
       "      <td>742823.3</td>\n",
       "      <td>100.00</td>\n",
       "    </tr>\n",
       "    <tr>\n",
       "      <th>4</th>\n",
       "      <td>109</td>\n",
       "      <td>1414720.3</td>\n",
       "      <td>25.22</td>\n",
       "    </tr>\n",
       "    <tr>\n",
       "      <th>5</th>\n",
       "      <td>112</td>\n",
       "      <td>1156417.3</td>\n",
       "      <td>90.64</td>\n",
       "    </tr>\n",
       "    <tr>\n",
       "      <th>6</th>\n",
       "      <td>150</td>\n",
       "      <td>180332.3</td>\n",
       "      <td>0.00</td>\n",
       "    </tr>\n",
       "    <tr>\n",
       "      <th>7</th>\n",
       "      <td>221</td>\n",
       "      <td>717962.3</td>\n",
       "      <td>99.16</td>\n",
       "    </tr>\n",
       "    <tr>\n",
       "      <th>8</th>\n",
       "      <td>243</td>\n",
       "      <td>1297617.3</td>\n",
       "      <td>91.85</td>\n",
       "    </tr>\n",
       "    <tr>\n",
       "      <th>9</th>\n",
       "      <td>253</td>\n",
       "      <td>1367212.3</td>\n",
       "      <td>97.24</td>\n",
       "    </tr>\n",
       "  </tbody>\n",
       "</table>\n",
       "</div>"
      ],
      "text/plain": [
       "  OTU_ID  GENOME_ID  SIMILARITY\n",
       "0     18   657315.3      100.00\n",
       "1     37   484018.6       98.33\n",
       "2     72  1235835.3       25.00\n",
       "3     74   742823.3      100.00\n",
       "4    109  1414720.3       25.22\n",
       "5    112  1156417.3       90.64\n",
       "6    150   180332.3        0.00\n",
       "7    221   717962.3       99.16\n",
       "8    243  1297617.3       91.85\n",
       "9    253  1367212.3       97.24"
      ]
     },
     "execution_count": 10,
     "metadata": {},
     "output_type": "execute_result"
    }
   ],
   "source": [
    "similarity[0:10]"
   ]
  },
  {
   "cell_type": "markdown",
   "metadata": {},
   "source": [
    "For reference, save the genome IDs and similarity data frame to files."
   ]
  },
  {
   "cell_type": "code",
   "execution_count": 11,
   "metadata": {
    "collapsed": true
   },
   "outputs": [],
   "source": [
    "with open(join(analysis_folder, 'genome_ids.txt'), 'w') as handle:\n",
    "    handle.write('\\n'.join(genome_ids)+'\\n')\n",
    "mminte.write_similarity_file(similarity, join(analysis_folder, 'similarity.csv'))"
   ]
  },
  {
   "cell_type": "markdown",
   "metadata": {},
   "source": [
    "### Widget 3 - Reconstruct and download metabolic models from ModelSEED\n",
    "\n",
    "In Widget 3, you reconstruct and gap fill metabolic models for the unique species in the microbial community with the [ModelSEED service](http://modelseed.org) using the `create_species_models()` function. The first input parameter is the list of genome IDs that was created in Widget 2. The second input parameter is the path to a folder for storing the single species model files (created in \"Getting Started\").\n",
    "\n",
    "The output is a list of paths to the downloaded single species model files. The `create_species_models()` function can run for a long time if all of the models need to be reconstructed and gap filled. By default, `create_species_models()` uses a previously downloaded model or a previously reconstructed model available in your ModelSEED workspace. You can force the models to be reconstructed using the `replace=True` parameter.\n",
    "\n",
    "The output is a list of paths to the downloaded single species model files."
   ]
  },
  {
   "cell_type": "code",
   "execution_count": 12,
   "metadata": {
    "collapsed": true
   },
   "outputs": [],
   "source": [
    "single_model_filenames = mminte.create_species_models(genome_ids, single_model_folder)"
   ]
  },
  {
   "cell_type": "markdown",
   "metadata": {},
   "source": [
    "For reference, save the list of paths to single species models to a file."
   ]
  },
  {
   "cell_type": "code",
   "execution_count": 13,
   "metadata": {
    "collapsed": true
   },
   "outputs": [],
   "source": [
    "with open(join(analysis_folder, 'single_model_filenames.txt'), 'w') as handle:\n",
    "    handle.write('\\n'.join(single_model_filenames)+'\\n')"
   ]
  },
  {
   "cell_type": "markdown",
   "metadata": {},
   "source": [
    "### Widget 4 - Create two species community models\n",
    "\n",
    "In Widget 4, you create two species community models from single species models using the `create_interaction_models()` function. The first input parameter is a list of tuples with two elements, the paths to the single species model files in each pair. You can use all possible pairs from the list of single species models created in Widget 3 as shown in the cell below or select specific pairs by building the input list yourself."
   ]
  },
  {
   "cell_type": "code",
   "execution_count": 14,
   "metadata": {},
   "outputs": [
    {
     "data": {
      "text/plain": [
       "('/Users/mminte/mminte_tutorial/single_models/557855.3.json',\n",
       " '/Users/mminte/mminte_tutorial/single_models/1414720.3.json')"
      ]
     },
     "execution_count": 14,
     "metadata": {},
     "output_type": "execute_result"
    }
   ],
   "source": [
    "pairs = mminte.get_all_pairs(single_model_filenames)\n",
    "pairs[0]"
   ]
  },
  {
   "cell_type": "markdown",
   "metadata": {},
   "source": [
    "The second input parameter is the path to a folder for storing the two species community model files (created in \"Getting Started\").\n",
    "\n",
    "The output is a list of paths to the two species community model files."
   ]
  },
  {
   "cell_type": "code",
   "execution_count": 15,
   "metadata": {
    "collapsed": true
   },
   "outputs": [],
   "source": [
    "pair_model_filenames = mminte.create_interaction_models(pairs, pair_model_folder)"
   ]
  },
  {
   "cell_type": "markdown",
   "metadata": {},
   "source": [
    "For reference, save the list of paths to the two species community models to a file."
   ]
  },
  {
   "cell_type": "code",
   "execution_count": 16,
   "metadata": {
    "collapsed": true
   },
   "outputs": [],
   "source": [
    "with open(join(analysis_folder, 'pair_model_filenames.txt'), 'w') as handle:\n",
    "    handle.write('\\n'.join(pair_model_filenames)+'\\n')"
   ]
  },
  {
   "cell_type": "markdown",
   "metadata": {},
   "source": [
    "### Widget 5 - Calculate growth rates and evaluate interactions\n",
    "\n",
    "In Widget 5, you calculate growth rates and evaluate interactions for the pairs in the microbial community using the `calculate_growth_rates()` function. To determine how the presence of one species in the community affects the growth of the other species, the two species community model is optimized for growth with the two species together and with each species alone under specific nutritient conditions. The type of interaction is set based on the outcomes identified in Table 1 of [Anoxic Conditions Promote Species-Specific Mutualism between Gut Microbes In Silico](http://aem.asm.org/content/81/12/4049.full). What happens between two species may be broadly divided into positive, negative, or no interaction. \n",
    "\n",
    "The first input parameter is the list of paths to two species community model files that were created in Widget 4. \n",
    "\n",
    "The second input parameter is a dictionary that defines the medium (or nutritient conditions) that the community is growing in. The medium dictionary is keyed by exchange reaction ID with the uptake rate as the value. A complete medium for the ModelSEED models used in this tutorial is in the test data included with the mminte package. "
   ]
  },
  {
   "cell_type": "code",
   "execution_count": 17,
   "metadata": {
    "collapsed": true
   },
   "outputs": [],
   "source": [
    "complete_diet = mminte.read_diet_file(pkg_resources.resource_filename('mminte', 'test/data/ms_complete100.txt'))"
   ]
  },
  {
   "cell_type": "markdown",
   "metadata": {},
   "source": [
    "The output is a data frame with details on the growth rates of the species in each pair and the type of interaction."
   ]
  },
  {
   "cell_type": "code",
   "execution_count": 18,
   "metadata": {
    "collapsed": true
   },
   "outputs": [],
   "source": [
    "growth_rates = mminte.calculate_growth_rates(pair_model_filenames, complete_diet)"
   ]
  },
  {
   "cell_type": "markdown",
   "metadata": {},
   "source": [
    "Each row in the `growth_rates` data frame, details the interaction between a pair in the microbial community and identifies the type of interaction. "
   ]
  },
  {
   "cell_type": "code",
   "execution_count": 19,
   "metadata": {},
   "outputs": [
    {
     "data": {
      "text/html": [
       "<div>\n",
       "<style>\n",
       "    .dataframe thead tr:only-child th {\n",
       "        text-align: right;\n",
       "    }\n",
       "\n",
       "    .dataframe thead th {\n",
       "        text-align: left;\n",
       "    }\n",
       "\n",
       "    .dataframe tbody tr th {\n",
       "        vertical-align: top;\n",
       "    }\n",
       "</style>\n",
       "<table border=\"1\" class=\"dataframe\">\n",
       "  <thead>\n",
       "    <tr style=\"text-align: right;\">\n",
       "      <th></th>\n",
       "      <th>A_ID</th>\n",
       "      <th>B_ID</th>\n",
       "      <th>TYPE</th>\n",
       "      <th>TOGETHER</th>\n",
       "      <th>A_TOGETHER</th>\n",
       "      <th>B_TOGETHER</th>\n",
       "      <th>A_ALONE</th>\n",
       "      <th>B_ALONE</th>\n",
       "      <th>A_CHANGE</th>\n",
       "      <th>B_CHANGE</th>\n",
       "    </tr>\n",
       "  </thead>\n",
       "  <tbody>\n",
       "    <tr>\n",
       "      <th>0</th>\n",
       "      <td>557855.3</td>\n",
       "      <td>1414720.3</td>\n",
       "      <td>Mutualism</td>\n",
       "      <td>146.980271</td>\n",
       "      <td>133.190104</td>\n",
       "      <td>13.790167</td>\n",
       "      <td>119.938824</td>\n",
       "      <td>5.916418</td>\n",
       "      <td>0.110484</td>\n",
       "      <td>1.330830</td>\n",
       "    </tr>\n",
       "    <tr>\n",
       "      <th>1</th>\n",
       "      <td>557855.3</td>\n",
       "      <td>29354.3</td>\n",
       "      <td>Parasitism</td>\n",
       "      <td>163.340523</td>\n",
       "      <td>151.715807</td>\n",
       "      <td>11.624716</td>\n",
       "      <td>119.938824</td>\n",
       "      <td>25.000801</td>\n",
       "      <td>0.264943</td>\n",
       "      <td>-0.535026</td>\n",
       "    </tr>\n",
       "    <tr>\n",
       "      <th>2</th>\n",
       "      <td>557855.3</td>\n",
       "      <td>1165092.3</td>\n",
       "      <td>Parasitism</td>\n",
       "      <td>150.759397</td>\n",
       "      <td>145.183478</td>\n",
       "      <td>5.575919</td>\n",
       "      <td>119.938824</td>\n",
       "      <td>22.060714</td>\n",
       "      <td>0.210479</td>\n",
       "      <td>-0.747247</td>\n",
       "    </tr>\n",
       "    <tr>\n",
       "      <th>3</th>\n",
       "      <td>557855.3</td>\n",
       "      <td>1156417.3</td>\n",
       "      <td>Amensalism</td>\n",
       "      <td>125.207214</td>\n",
       "      <td>124.183373</td>\n",
       "      <td>1.023841</td>\n",
       "      <td>119.938824</td>\n",
       "      <td>9.510915</td>\n",
       "      <td>0.035389</td>\n",
       "      <td>-0.892351</td>\n",
       "    </tr>\n",
       "    <tr>\n",
       "      <th>4</th>\n",
       "      <td>557855.3</td>\n",
       "      <td>1235835.3</td>\n",
       "      <td>Amensalism</td>\n",
       "      <td>119.938824</td>\n",
       "      <td>119.938824</td>\n",
       "      <td>0.000000</td>\n",
       "      <td>119.938824</td>\n",
       "      <td>2.145181</td>\n",
       "      <td>0.000000</td>\n",
       "      <td>-1.000000</td>\n",
       "    </tr>\n",
       "    <tr>\n",
       "      <th>5</th>\n",
       "      <td>557855.3</td>\n",
       "      <td>1469948.3</td>\n",
       "      <td>Parasitism</td>\n",
       "      <td>136.863863</td>\n",
       "      <td>136.863863</td>\n",
       "      <td>0.000000</td>\n",
       "      <td>119.938824</td>\n",
       "      <td>6.230712</td>\n",
       "      <td>0.141114</td>\n",
       "      <td>-1.000000</td>\n",
       "    </tr>\n",
       "    <tr>\n",
       "      <th>6</th>\n",
       "      <td>557855.3</td>\n",
       "      <td>1297617.3</td>\n",
       "      <td>Amensalism</td>\n",
       "      <td>129.488623</td>\n",
       "      <td>129.488623</td>\n",
       "      <td>0.000000</td>\n",
       "      <td>119.938824</td>\n",
       "      <td>8.269206</td>\n",
       "      <td>0.079622</td>\n",
       "      <td>-1.000000</td>\n",
       "    </tr>\n",
       "    <tr>\n",
       "      <th>7</th>\n",
       "      <td>557855.3</td>\n",
       "      <td>742726.3</td>\n",
       "      <td>Amensalism</td>\n",
       "      <td>119.938824</td>\n",
       "      <td>119.938824</td>\n",
       "      <td>0.000000</td>\n",
       "      <td>119.938824</td>\n",
       "      <td>0.000000</td>\n",
       "      <td>0.000000</td>\n",
       "      <td>-1.000000</td>\n",
       "    </tr>\n",
       "    <tr>\n",
       "      <th>8</th>\n",
       "      <td>557855.3</td>\n",
       "      <td>742823.3</td>\n",
       "      <td>Parasitism</td>\n",
       "      <td>134.965308</td>\n",
       "      <td>134.965308</td>\n",
       "      <td>0.000000</td>\n",
       "      <td>119.938824</td>\n",
       "      <td>0.000000</td>\n",
       "      <td>0.125285</td>\n",
       "      <td>-1.000000</td>\n",
       "    </tr>\n",
       "    <tr>\n",
       "      <th>9</th>\n",
       "      <td>557855.3</td>\n",
       "      <td>1367212.3</td>\n",
       "      <td>Amensalism</td>\n",
       "      <td>125.359516</td>\n",
       "      <td>125.359516</td>\n",
       "      <td>0.000000</td>\n",
       "      <td>119.938824</td>\n",
       "      <td>2.389163</td>\n",
       "      <td>0.045195</td>\n",
       "      <td>-1.000000</td>\n",
       "    </tr>\n",
       "  </tbody>\n",
       "</table>\n",
       "</div>"
      ],
      "text/plain": [
       "       A_ID       B_ID        TYPE    TOGETHER  A_TOGETHER  B_TOGETHER  \\\n",
       "0  557855.3  1414720.3   Mutualism  146.980271  133.190104   13.790167   \n",
       "1  557855.3    29354.3  Parasitism  163.340523  151.715807   11.624716   \n",
       "2  557855.3  1165092.3  Parasitism  150.759397  145.183478    5.575919   \n",
       "3  557855.3  1156417.3  Amensalism  125.207214  124.183373    1.023841   \n",
       "4  557855.3  1235835.3  Amensalism  119.938824  119.938824    0.000000   \n",
       "5  557855.3  1469948.3  Parasitism  136.863863  136.863863    0.000000   \n",
       "6  557855.3  1297617.3  Amensalism  129.488623  129.488623    0.000000   \n",
       "7  557855.3   742726.3  Amensalism  119.938824  119.938824    0.000000   \n",
       "8  557855.3   742823.3  Parasitism  134.965308  134.965308    0.000000   \n",
       "9  557855.3  1367212.3  Amensalism  125.359516  125.359516    0.000000   \n",
       "\n",
       "      A_ALONE    B_ALONE  A_CHANGE  B_CHANGE  \n",
       "0  119.938824   5.916418  0.110484  1.330830  \n",
       "1  119.938824  25.000801  0.264943 -0.535026  \n",
       "2  119.938824  22.060714  0.210479 -0.747247  \n",
       "3  119.938824   9.510915  0.035389 -0.892351  \n",
       "4  119.938824   2.145181  0.000000 -1.000000  \n",
       "5  119.938824   6.230712  0.141114 -1.000000  \n",
       "6  119.938824   8.269206  0.079622 -1.000000  \n",
       "7  119.938824   0.000000  0.000000 -1.000000  \n",
       "8  119.938824   0.000000  0.125285 -1.000000  \n",
       "9  119.938824   2.389163  0.045195 -1.000000  "
      ]
     },
     "execution_count": 19,
     "metadata": {},
     "output_type": "execute_result"
    }
   ],
   "source": [
    "growth_rates[0:10]"
   ]
  },
  {
   "cell_type": "markdown",
   "metadata": {},
   "source": [
    "For reference, save the growth rates data frame to a file."
   ]
  },
  {
   "cell_type": "code",
   "execution_count": 20,
   "metadata": {
    "collapsed": true
   },
   "outputs": [],
   "source": [
    "mminte.write_growth_rates_file(growth_rates, join(analysis_folder, 'growth_rates.csv'))"
   ]
  },
  {
   "cell_type": "markdown",
   "metadata": {},
   "source": [
    "### Widget 6 - Visualize interactions in the community\n",
    "\n",
    "In Widget 6, you visualize the interactions between pairs in the microbial community by creating a graph that represents the interaction network using `make_graph()`. \n",
    "\n",
    "The first input is the growth rates data frame created in Widget 5. The second input parameter is the similarity data frame created in Widget 2. The third input parameter is the correlations between OTUs used as input in Widget 1.\n",
    "\n",
    "The output is a networkx Graph object where the nodes represent the different OTUs and the edges represent the interaction between OTUs in a pair. The shading of a node indicates how close the sequence of the OTU is to the sequence of the genome. The darker the node, the higher the similarity. The color of an edge indicates the kind of interaction predicted between the OTUs in a pair. A red edge indicates a negative interaction, a green edge indcates a positive interaction, and a gray edge indicates no interaction. The thickness of an edge indicates the strength of the correlation between the OTUs in a pair. The thicker the edge, the higher the correlation between the OTUs."
   ]
  },
  {
   "cell_type": "code",
   "execution_count": 21,
   "metadata": {
    "collapsed": true
   },
   "outputs": [],
   "source": [
    "graph = mminte.make_graph(growth_rates, similarity, correlations)"
   ]
  },
  {
   "cell_type": "markdown",
   "metadata": {},
   "source": [
    "You plot the graph using `plot_graph()` which opens a new window with the visualization. The default is a circular layout. If you want a different layout, you can use any of the plotting functions available in the networkx package. Note newer versions of matplotlib display deprecation warnings from networkx drawing functions which can be ignored."
   ]
  },
  {
   "cell_type": "code",
   "execution_count": 22,
   "metadata": {},
   "outputs": [
    {
     "name": "stdout",
     "output_type": "stream",
     "text": [
      "Using matplotlib backend: MacOSX\n"
     ]
    },
    {
     "name": "stderr",
     "output_type": "stream",
     "text": [
      "/Users/mminte/Envs/mminte/lib/python3.6/site-packages/networkx/drawing/nx_pylab.py:126 \u001b[1;31mMatplotlibDeprecationWarning\u001b[0m: pyplot.hold is deprecated.\n",
      "    Future behavior will be consistent with the long-time default:\n",
      "    plot commands add elements without first clearing the\n",
      "    Axes and/or Figure.\n",
      "/Users/mminte/Envs/mminte/lib/python3.6/site-packages/networkx/drawing/nx_pylab.py:138 \u001b[1;31mMatplotlibDeprecationWarning\u001b[0m: pyplot.hold is deprecated.\n",
      "    Future behavior will be consistent with the long-time default:\n",
      "    plot commands add elements without first clearing the\n",
      "    Axes and/or Figure.\n",
      "/Users/mminte/Envs/mminte/lib/python3.6/site-packages/matplotlib/__init__.py:917 \u001b[1;31mUserWarning\u001b[0m: axes.hold is deprecated. Please remove it from your matplotlibrc and/or style files.\n",
      "/Users/mminte/Envs/mminte/lib/python3.6/site-packages/matplotlib/rcsetup.py:152 \u001b[1;31mUserWarning\u001b[0m: axes.hold is deprecated, will be removed in 3.0\n"
     ]
    }
   ],
   "source": [
    "%matplotlib\n",
    "mminte.plot_graph(graph)"
   ]
  }
 ],
 "metadata": {
  "kernelspec": {
   "display_name": "MMinte",
   "language": "python",
   "name": "mminte"
  },
  "language_info": {
   "codemirror_mode": {
    "name": "ipython",
    "version": 3
   },
   "file_extension": ".py",
   "mimetype": "text/x-python",
   "name": "python",
   "nbconvert_exporter": "python",
   "pygments_lexer": "ipython3",
   "version": "3.6.1"
  }
 },
 "nbformat": 4,
 "nbformat_minor": 1
}
